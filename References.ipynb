{
 "cells": [
  {
   "cell_type": "markdown",
   "metadata": {},
   "source": [
    "# References:"
   ]
  },
  {
   "cell_type": "markdown",
   "metadata": {},
   "source": [
    "1. https://realpython.com/pandas-sort-python/#:~:text=To%20sort%20the%20DataFrame%20based,not%20modify%20the%20original%20DataFrame."
   ]
  },
  {
   "cell_type": "markdown",
   "metadata": {},
   "source": [
    "2. https://stackoverflow.com/questions/7082345/how-to-set-the-labels-size-on-a-pie-chart\n",
    "3. https://stackoverflow.com/questions/74382956/using-pandas-replace-to-change-all-value-in-a-column-except-one-value\n",
    "4. https://codereview.stackexchange.com/questions/185389/dropping-rows-from-a-pandas-dataframe-where-some-of-the-columns-have-value-0\n",
    "5. https://stackoverflow.com/questions/45679552/how-do-i-change-the-font-family-of-matplotlib-bar-chart-labels\n",
    "6. https://stackoverflow.com/questions/33476401/color-matplotlib-bar-chart-based-on-value\n",
    "7. https://stackoverflow.com/questions/32464280/how-to-convert-currency-column-with-and-to-numbers\n",
    "8. https://stackoverflow.com/questions/34811971/how-do-i-fill-a-column-with-one-value-in-pandas\n",
    "9. https://medium.com/@shouke.wei/2-convenient-methods-to-select-columns-while-reading-dataset-with-pandas-80df68206c4#:~:text=However%2C%20often%20times%20you%20might,include%20in%20the%20resulting%20DataFrame.\n",
    "10. https://d20vrrgs8k4bvw.cloudfront.net/documents/en-US/Predictive+Analytics+for+Business+Nanodegree+Syllabus.pdf\n",
    "\n"
   ]
  },
  {
   "cell_type": "code",
   "execution_count": null,
   "metadata": {},
   "outputs": [],
   "source": []
  },
  {
   "cell_type": "code",
   "execution_count": null,
   "metadata": {},
   "outputs": [],
   "source": []
  },
  {
   "cell_type": "code",
   "execution_count": null,
   "metadata": {},
   "outputs": [],
   "source": []
  },
  {
   "cell_type": "code",
   "execution_count": null,
   "metadata": {},
   "outputs": [],
   "source": []
  },
  {
   "cell_type": "markdown",
   "metadata": {},
   "source": []
  }
 ],
 "metadata": {
  "kernelspec": {
   "display_name": "Python 3",
   "language": "python",
   "name": "python3"
  },
  "language_info": {
   "codemirror_mode": {
    "name": "ipython",
    "version": 3
   },
   "file_extension": ".py",
   "mimetype": "text/x-python",
   "name": "python",
   "nbconvert_exporter": "python",
   "pygments_lexer": "ipython3",
   "version": "3.8.3"
  }
 },
 "nbformat": 4,
 "nbformat_minor": 4
}
